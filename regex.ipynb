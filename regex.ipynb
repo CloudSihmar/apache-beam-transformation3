{
 "cells": [
  {
   "cell_type": "code",
   "execution_count": 9,
   "id": "a0c86e47-ea77-4058-b141-5dd7651e9578",
   "metadata": {
    "tags": []
   },
   "outputs": [
    {
     "name": "stdout",
     "output_type": "stream",
     "text": [
      "🍓, Strawberry, perennial\n",
      "🥕, Carrot, biennial\n",
      "🍆, Eggplant, perennial\n",
      "🍅, Tomato, annual\n",
      "🥔, Potato, perennial\n"
     ]
    }
   ],
   "source": [
    "import apache_beam as beam\n",
    "\n",
    "# Define the regex pattern to match emoji, name, and type\n",
    "regex = r'(?P<icon>[^\\s,]+),\\s*(?P<name>\\w+),\\s*(?P<type>\\w+)'\n",
    "\n",
    "with beam.Pipeline() as pipeline:\n",
    "    plants_matches = (\n",
    "        pipeline\n",
    "        | 'Garden plants' >> beam.Create([\n",
    "            '🍓, Strawberry, perennial',\n",
    "            '🥕, Carrot, biennial ignoring trailing words',\n",
    "            '🍆, Eggplant, perennial',\n",
    "            '🍅, Tomato, annual',\n",
    "            '🥔, Potato, perennial',\n",
    "            '# 🍌, invalid, format',\n",
    "            'invalid, 🍉, format',\n",
    "        ])\n",
    "        | 'Parse plants' >> beam.Regex.matches(regex)\n",
    "        | beam.Map(print)\n",
    "    )\n"
   ]
  },
  {
   "cell_type": "code",
   "execution_count": 10,
   "id": "50fdacbf-3dcd-484c-9d2d-994a6f7b3567",
   "metadata": {
    "tags": []
   },
   "outputs": [
    {
     "name": "stdout",
     "output_type": "stream",
     "text": [
      "['🍓, Strawberry, perennial', '🍓', 'Strawberry', 'perennial']\n",
      "['🥕, Carrot, biennial', '🥕', 'Carrot', 'biennial']\n",
      "['🍆, Eggplant, perennial', '🍆', 'Eggplant', 'perennial']\n",
      "['🍅, Tomato, annual', '🍅', 'Tomato', 'annual']\n",
      "['🥔, Potato, perennial', '🥔', 'Potato', 'perennial']\n"
     ]
    }
   ],
   "source": [
    "import apache_beam as beam\n",
    "\n",
    "# Define the regex pattern to match emoji, name, and type\n",
    "regex = r'(?P<icon>[^\\s,]+),\\s*(?P<name>\\w+),\\s*(?P<type>\\w+)'\n",
    "\n",
    "with beam.Pipeline() as pipeline:\n",
    "    plants_all_matches = (\n",
    "        pipeline\n",
    "        | 'Garden plants' >> beam.Create([\n",
    "            '🍓, Strawberry, perennial',\n",
    "            '🥕, Carrot, biennial ignoring trailing words',\n",
    "            '🍆, Eggplant, perennial',\n",
    "            '🍅, Tomato, annual',\n",
    "            '🥔, Potato, perennial',\n",
    "            '# 🍌, invalid, format',\n",
    "            'invalid, 🍉, format',\n",
    "        ])\n",
    "        | 'Parse plants' >> beam.Regex.all_matches(regex)\n",
    "        | beam.Map(print)\n",
    "    )\n"
   ]
  },
  {
   "cell_type": "code",
   "execution_count": 11,
   "id": "79991651-1993-4183-b6f1-00c01006d164",
   "metadata": {
    "tags": []
   },
   "outputs": [
    {
     "name": "stdout",
     "output_type": "stream",
     "text": [
      "('🍓', '🍓, Strawberry, perennial')\n",
      "('🥕', '🥕, Carrot, biennial')\n",
      "('🍆', '🍆, Eggplant, perennial')\n",
      "('🍅', '🍅, Tomato, annual')\n",
      "('🥔', '🥔, Potato, perennial')\n"
     ]
    }
   ],
   "source": [
    "def regex_matches_kv(test=None):\n",
    "    # [START regex_matches_kv]\n",
    "    import apache_beam as beam\n",
    "\n",
    "    # Matches a named group 'icon', and then two comma-separated groups.\n",
    "    regex = r'(?P<icon>[^\\s,]+), *(\\w+), *(\\w+)'\n",
    "    with beam.Pipeline() as pipeline:\n",
    "        plants_matches_kv = (\n",
    "            pipeline\n",
    "            | 'Garden plants' >> beam.Create([\n",
    "                '🍓, Strawberry, perennial',\n",
    "                '🥕, Carrot, biennial ignoring trailing words',\n",
    "                '🍆, Eggplant, perennial',\n",
    "                '🍅, Tomato, annual',\n",
    "                '🥔, Potato, perennial',\n",
    "                '# 🍌, invalid, format',\n",
    "                'invalid, 🍉, format',\n",
    "            ])\n",
    "            | 'Parse plants' >> beam.Regex.matches_kv(regex, keyGroup='icon')\n",
    "            | beam.Map(print))\n",
    "    # [END regex_matches_kv]\n",
    "\n",
    "regex_matches_kv()"
   ]
  },
  {
   "cell_type": "code",
   "execution_count": 12,
   "id": "d469879c-b614-412b-92a2-bba8a9990e23",
   "metadata": {
    "tags": []
   },
   "outputs": [
    {
     "name": "stdout",
     "output_type": "stream",
     "text": [
      "🍓, Strawberry, perennial\n",
      "🥕, Carrot, biennial\n",
      "🍆, Eggplant, perennial\n",
      "🍅, Tomato, annual\n",
      "🥔, Potato, perennial\n"
     ]
    }
   ],
   "source": [
    "# [START regex_find]\n",
    "import apache_beam as beam\n",
    "\n",
    "# Matches a named group 'icon', and then two comma-separated groups.\n",
    "regex = r'(?P<icon>[^\\s,]+), *(\\w+), *(\\w+)'\n",
    "with beam.Pipeline() as pipeline:\n",
    "    plants_matches = (\n",
    "        pipeline\n",
    "        | 'Garden plants' >> beam.Create([\n",
    "            '# 🍓, Strawberry, perennial',\n",
    "            '# 🥕, Carrot, biennial ignoring trailing words',\n",
    "            '# 🍆, Eggplant, perennial - 🍌, Banana, perennial',\n",
    "            '# 🍅, Tomato, annual - 🍉, Watermelon, annual',\n",
    "            '# 🥔, Potato, perennial',\n",
    "        ])\n",
    "        | 'Parse plants' >> beam.Regex.find(regex)\n",
    "        | beam.Map(print))\n",
    "# [END regex_find]\n"
   ]
  },
  {
   "cell_type": "code",
   "execution_count": 13,
   "id": "3692d10c-fb9f-4c41-b301-24b42b6eb243",
   "metadata": {
    "tags": []
   },
   "outputs": [
    {
     "name": "stdout",
     "output_type": "stream",
     "text": [
      "['🍓, Strawberry, perennial']\n",
      "['🥕, Carrot, biennial']\n",
      "['🍆, Eggplant, perennial', '🍌, Banana, perennial']\n",
      "['🍅, Tomato, annual', '🍉, Watermelon, annual']\n",
      "['🥔, Potato, perennial']\n"
     ]
    }
   ],
   "source": [
    "import apache_beam as beam\n",
    "\n",
    "# Matches a named group 'icon', and then two comma-separated groups.\n",
    "regex = r'(?P<icon>[^\\s,]+), *(\\w+), *(\\w+)'\n",
    "with beam.Pipeline() as pipeline:\n",
    "    plants_find_all = (\n",
    "        pipeline\n",
    "        | 'Garden plants' >> beam.Create([\n",
    "            '# 🍓, Strawberry, perennial',\n",
    "            '# 🥕, Carrot, biennial ignoring trailing words',\n",
    "            '# 🍆, Eggplant, perennial - 🍌, Banana, perennial',\n",
    "            '# 🍅, Tomato, annual - 🍉, Watermelon, annual',\n",
    "            '# 🥔, Potato, perennial',\n",
    "        ])\n",
    "        | 'Parse plants' >> beam.Regex.find_all(regex)\n",
    "        | beam.Map(print))\n",
    "# [END regex_find_all]\n"
   ]
  },
  {
   "cell_type": "code",
   "execution_count": 14,
   "id": "da413b2d-34a3-49fc-b097-d21258889e5e",
   "metadata": {
    "tags": []
   },
   "outputs": [
    {
     "name": "stdout",
     "output_type": "stream",
     "text": [
      "('🍓', '🍓, Strawberry, perennial')\n",
      "('🥕', '🥕, Carrot, biennial')\n",
      "('🍆', '🍆, Eggplant, perennial')\n",
      "('🍌', '🍌, Banana, perennial')\n",
      "('🍅', '🍅, Tomato, annual')\n",
      "('🍉', '🍉, Watermelon, annual')\n",
      "('🥔', '🥔, Potato, perennial')\n"
     ]
    }
   ],
   "source": [
    "import apache_beam as beam\n",
    "\n",
    "# Matches a named group 'icon', and then two comma-separated groups.\n",
    "regex = r'(?P<icon>[^\\s,]+), *(\\w+), *(\\w+)'\n",
    "with beam.Pipeline() as pipeline:\n",
    "    plants_matches_kv = (\n",
    "        pipeline\n",
    "        | 'Garden plants' >> beam.Create([\n",
    "            '# 🍓, Strawberry, perennial',\n",
    "            '# 🥕, Carrot, biennial ignoring trailing words',\n",
    "            '# 🍆, Eggplant, perennial - 🍌, Banana, perennial',\n",
    "            '# 🍅, Tomato, annual - 🍉, Watermelon, annual',\n",
    "            '# 🥔, Potato, perennial',\n",
    "        ])\n",
    "        | 'Parse plants' >> beam.Regex.find_kv(regex, keyGroup='icon')\n",
    "        | beam.Map(print))\n"
   ]
  },
  {
   "cell_type": "code",
   "execution_count": 16,
   "id": "ffbe7d4a-93b5-4e10-b4cd-cc145014187f",
   "metadata": {
    "tags": []
   },
   "outputs": [
    {
     "name": "stdout",
     "output_type": "stream",
     "text": [
      "🍓,Strawberry,perennial\n",
      "🥕,Carrot,biennial\n",
      "🍆,Eggplant,perennial\n",
      "🍅,Tomato,annual\n",
      "🥔,Potato,perennial\n"
     ]
    }
   ],
   "source": [
    "import apache_beam as beam\n",
    "\n",
    "with beam.Pipeline() as pipeline:\n",
    "    plants_replace_all = (\n",
    "        pipeline\n",
    "        | 'Garden plants' >> beam.Create([\n",
    "            '🍓 : Strawberry : perennial',\n",
    "            '🥕 : Carrot : biennial',\n",
    "            '🍆\\t:\\tEggplant\\t:\\tperennial',\n",
    "            '🍅 : Tomato : annual',\n",
    "            '🥔 : Potato : perennial',\n",
    "        ])\n",
    "        | 'To CSV' >> beam.Regex.replace_all(r'\\s*:\\s*', ',')\n",
    "        | beam.Map(print)\n",
    "    )\n"
   ]
  },
  {
   "cell_type": "code",
   "execution_count": null,
   "id": "da0d0c96-154c-4be6-a551-8c9f49cc99c6",
   "metadata": {},
   "outputs": [],
   "source": []
  }
 ],
 "metadata": {
  "environment": {
   "kernel": "apache-beam-2.54.0",
   "name": ".m121",
   "type": "gcloud",
   "uri": "us-docker.pkg.dev/deeplearning-platform-release/gcr.io/:m121"
  },
  "kernelspec": {
   "display_name": "Apache Beam 2.54.0 (Local)",
   "language": "python",
   "name": "apache-beam-2.54.0"
  },
  "language_info": {
   "codemirror_mode": {
    "name": "ipython",
    "version": 3
   },
   "file_extension": ".py",
   "mimetype": "text/x-python",
   "name": "python",
   "nbconvert_exporter": "python",
   "pygments_lexer": "ipython3",
   "version": "3.10.14"
  }
 },
 "nbformat": 4,
 "nbformat_minor": 5
}
