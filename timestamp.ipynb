{
 "cells": [
  {
   "cell_type": "code",
   "execution_count": 3,
   "id": "3dff8a60-cb64-453d-94bf-215f0ccb1ea9",
   "metadata": {
    "tags": []
   },
   "outputs": [
    {
     "name": "stdout",
     "output_type": "stream",
     "text": [
      "2020-04-01 00:00:00 - Strawberry\n",
      "2020-06-01 00:00:00 - Carrot\n",
      "2020-03-01 00:00:00 - Artichoke\n",
      "2020-05-01 00:00:00 - Tomato\n",
      "2020-09-01 00:00:00 - Potato\n"
     ]
    }
   ],
   "source": [
    "import apache_beam as beam\n",
    "\n",
    "class GetTimestamp(beam.DoFn):\n",
    "    def process(self, plant, timestamp=beam.DoFn.TimestampParam):\n",
    "        yield '{} - {}'.format(timestamp.to_utc_datetime(), plant['name'])\n",
    "\n",
    "with beam.Pipeline() as pipeline:\n",
    "    plant_timestamps = (\n",
    "        pipeline\n",
    "        | 'Garden plants' >> beam.Create([\n",
    "            {'name': 'Strawberry', 'season': 1585699200}, # April, 2020\n",
    "            {'name': 'Carrot', 'season': 1590969600},     # June, 2020\n",
    "            {'name': 'Artichoke', 'season': 1583020800},  # March, 2020\n",
    "            {'name': 'Tomato', 'season': 1588291200},     # May, 2020\n",
    "            {'name': 'Potato', 'season': 1598918400},     # September, 2020\n",
    "        ])\n",
    "        | 'With timestamps' >> beam.Map(\n",
    "            lambda plant: beam.window.TimestampedValue(plant, plant['season']))\n",
    "        | 'Get timestamp' >> beam.ParDo(GetTimestamp())\n",
    "        | beam.Map(print)\n",
    "    )\n"
   ]
  },
  {
   "cell_type": "code",
   "execution_count": 4,
   "id": "40e803fc-b2ac-44b6-b602-ac611a541911",
   "metadata": {
    "tags": []
   },
   "outputs": [
    {
     "name": "stdout",
     "output_type": "stream",
     "text": [
      "1 - Strawberry\n",
      "4 - Carrot\n",
      "2 - Artichoke\n",
      "3 - Tomato\n",
      "5 - Potato\n"
     ]
    }
   ],
   "source": [
    "import apache_beam as beam\n",
    "\n",
    "class GetTimestamp(beam.DoFn):\n",
    "    def process(self, plant, timestamp=beam.DoFn.TimestampParam):\n",
    "        event_id = int(timestamp.micros / 1e6)  # Convert microseconds to seconds\n",
    "        yield '{} - {}'.format(event_id, plant['name'])\n",
    "\n",
    "with beam.Pipeline() as pipeline:\n",
    "    plant_events = (\n",
    "        pipeline\n",
    "        | 'Garden plants' >> beam.Create([\n",
    "            {'name': 'Strawberry', 'event_id': 1},\n",
    "            {'name': 'Carrot', 'event_id': 4},\n",
    "            {'name': 'Artichoke', 'event_id': 2},\n",
    "            {'name': 'Tomato', 'event_id': 3},\n",
    "            {'name': 'Potato', 'event_id': 5},\n",
    "        ])\n",
    "        | 'With timestamps' >> beam.Map(\n",
    "            lambda plant: beam.window.TimestampedValue(plant, plant['event_id']))\n",
    "        | 'Get timestamp' >> beam.ParDo(GetTimestamp())\n",
    "        | beam.Map(print)\n",
    "    )\n"
   ]
  },
  {
   "cell_type": "code",
   "execution_count": null,
   "id": "fc0c97a0-a4ad-4896-9761-fdf2724cd2a0",
   "metadata": {},
   "outputs": [],
   "source": []
  }
 ],
 "metadata": {
  "environment": {
   "kernel": "apache-beam-2.54.0",
   "name": ".m121",
   "type": "gcloud",
   "uri": "us-docker.pkg.dev/deeplearning-platform-release/gcr.io/:m121"
  },
  "kernelspec": {
   "display_name": "Apache Beam 2.54.0 (Local)",
   "language": "python",
   "name": "apache-beam-2.54.0"
  },
  "language_info": {
   "codemirror_mode": {
    "name": "ipython",
    "version": 3
   },
   "file_extension": ".py",
   "mimetype": "text/x-python",
   "name": "python",
   "nbconvert_exporter": "python",
   "pygments_lexer": "ipython3",
   "version": "3.10.14"
  }
 },
 "nbformat": 4,
 "nbformat_minor": 5
}
